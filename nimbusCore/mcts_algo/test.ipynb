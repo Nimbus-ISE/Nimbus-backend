{
 "cells": [
  {
   "cell_type": "code",
   "execution_count": 28,
   "metadata": {},
   "outputs": [
    {
     "data": {
      "text/html": [
       "<div>\n",
       "<style scoped>\n",
       "    .dataframe tbody tr th:only-of-type {\n",
       "        vertical-align: middle;\n",
       "    }\n",
       "\n",
       "    .dataframe tbody tr th {\n",
       "        vertical-align: top;\n",
       "    }\n",
       "\n",
       "    .dataframe thead th {\n",
       "        text-align: right;\n",
       "    }\n",
       "</style>\n",
       "<table border=\"1\" class=\"dataframe\">\n",
       "  <thead>\n",
       "    <tr style=\"text-align: right;\">\n",
       "      <th></th>\n",
       "      <th>type</th>\n",
       "      <th>loc_id</th>\n",
       "      <th>arrival_time</th>\n",
       "      <th>leave_time</th>\n",
       "      <th>travel_time</th>\n",
       "    </tr>\n",
       "  </thead>\n",
       "  <tbody>\n",
       "    <tr>\n",
       "      <th>0</th>\n",
       "      <td>locations</td>\n",
       "      <td>26.0</td>\n",
       "      <td>9.000000</td>\n",
       "      <td>11.000000</td>\n",
       "      <td>NaN</td>\n",
       "    </tr>\n",
       "    <tr>\n",
       "      <th>1</th>\n",
       "      <td>travel_dur</td>\n",
       "      <td>NaN</td>\n",
       "      <td>NaN</td>\n",
       "      <td>NaN</td>\n",
       "      <td>0.107222</td>\n",
       "    </tr>\n",
       "    <tr>\n",
       "      <th>2</th>\n",
       "      <td>locations</td>\n",
       "      <td>73.0</td>\n",
       "      <td>11.107222</td>\n",
       "      <td>12.107222</td>\n",
       "      <td>NaN</td>\n",
       "    </tr>\n",
       "    <tr>\n",
       "      <th>3</th>\n",
       "      <td>travel_dur</td>\n",
       "      <td>NaN</td>\n",
       "      <td>NaN</td>\n",
       "      <td>NaN</td>\n",
       "      <td>0.111389</td>\n",
       "    </tr>\n",
       "    <tr>\n",
       "      <th>4</th>\n",
       "      <td>locations</td>\n",
       "      <td>104.0</td>\n",
       "      <td>12.218611</td>\n",
       "      <td>12.968611</td>\n",
       "      <td>NaN</td>\n",
       "    </tr>\n",
       "    <tr>\n",
       "      <th>5</th>\n",
       "      <td>travel_dur</td>\n",
       "      <td>NaN</td>\n",
       "      <td>NaN</td>\n",
       "      <td>NaN</td>\n",
       "      <td>0.000000</td>\n",
       "    </tr>\n",
       "    <tr>\n",
       "      <th>6</th>\n",
       "      <td>locations</td>\n",
       "      <td>50.0</td>\n",
       "      <td>12.968611</td>\n",
       "      <td>14.468611</td>\n",
       "      <td>NaN</td>\n",
       "    </tr>\n",
       "    <tr>\n",
       "      <th>7</th>\n",
       "      <td>travel_dur</td>\n",
       "      <td>NaN</td>\n",
       "      <td>NaN</td>\n",
       "      <td>NaN</td>\n",
       "      <td>0.029722</td>\n",
       "    </tr>\n",
       "    <tr>\n",
       "      <th>8</th>\n",
       "      <td>locations</td>\n",
       "      <td>46.0</td>\n",
       "      <td>14.498333</td>\n",
       "      <td>15.248333</td>\n",
       "      <td>NaN</td>\n",
       "    </tr>\n",
       "    <tr>\n",
       "      <th>9</th>\n",
       "      <td>travel_dur</td>\n",
       "      <td>NaN</td>\n",
       "      <td>NaN</td>\n",
       "      <td>NaN</td>\n",
       "      <td>0.018333</td>\n",
       "    </tr>\n",
       "    <tr>\n",
       "      <th>10</th>\n",
       "      <td>locations</td>\n",
       "      <td>49.0</td>\n",
       "      <td>15.266667</td>\n",
       "      <td>15.766667</td>\n",
       "      <td>NaN</td>\n",
       "    </tr>\n",
       "  </tbody>\n",
       "</table>\n",
       "</div>"
      ],
      "text/plain": [
       "          type  loc_id  arrival_time  leave_time  travel_time\n",
       "0    locations    26.0      9.000000   11.000000          NaN\n",
       "1   travel_dur     NaN           NaN         NaN     0.107222\n",
       "2    locations    73.0     11.107222   12.107222          NaN\n",
       "3   travel_dur     NaN           NaN         NaN     0.111389\n",
       "4    locations   104.0     12.218611   12.968611          NaN\n",
       "5   travel_dur     NaN           NaN         NaN     0.000000\n",
       "6    locations    50.0     12.968611   14.468611          NaN\n",
       "7   travel_dur     NaN           NaN         NaN     0.029722\n",
       "8    locations    46.0     14.498333   15.248333          NaN\n",
       "9   travel_dur     NaN           NaN         NaN     0.018333\n",
       "10   locations    49.0     15.266667   15.766667          NaN"
      ]
     },
     "execution_count": 28,
     "metadata": {},
     "output_type": "execute_result"
    }
   ],
   "source": [
    "import pandas as pd\n",
    "\n",
    "df = [{'type': 'locations', 'loc_id': 43, 'arrival_time': '09:00 AM', 'leave_time': '12:00 PM'}, {'type': 'travel_dur', 'travel_time': '0 Min'}, {'type': 'locations', 'loc_id': 112, 'arrival_time': '12:04 PM', 'leave_time': '01:34 PM'}, {'type': 'travel_dur', 'travel_time': '0 Min'}, {'type': 'locations', 'loc_id': 50, 'arrival_time': '01:36 PM', 'leave_time': '03:06 PM'}, {'type': 'travel_dur', 'travel_time': '0 Min'}, {'type': 'locations', 'loc_id': 104, 'arrival_time': '03:06 PM', 'leave_time': '03:51 PM'}]\n",
    "df = [{'type': 'locations', 'loc_id': 26, 'arrival_time': 9, 'leave_time': 11.0}, {'type': 'travel_dur', 'travel_time': 0.10722222222222223}, {'type': 'locations', 'loc_id': 73, 'arrival_time': 11.107222222222223, 'leave_time': 12.107222222222223}, {'type': 'travel_dur', 'travel_time': 0.1113888888888889}, {'type': 'locations', 'loc_id': 104, 'arrival_time': 12.218611111111112, 'leave_time': 12.968611111111112}, {'type': 'travel_dur', 'travel_time': 0.0}, {'type': 'locations', 'loc_id': 50, 'arrival_time': 12.968611111111112, 'leave_time': 14.468611111111112}, {'type': 'travel_dur', 'travel_time': 0.029722222222222223}, {'type': 'locations', 'loc_id': 46, 'arrival_time': 14.498333333333335, 'leave_time': 15.248333333333335}, {'type': 'travel_dur', 'travel_time': 0.018333333333333333}, {'type': 'locations', 'loc_id': 49, 'arrival_time': 15.266666666666667, 'leave_time': 15.766666666666667}]\n",
    "df = pd.DataFrame(df)\n",
    "df"
   ]
  },
  {
   "cell_type": "code",
   "execution_count": 11,
   "metadata": {},
   "outputs": [
    {
     "data": {
      "text/plain": [
       "'0.0 Min'"
      ]
     },
     "execution_count": 11,
     "metadata": {},
     "output_type": "execute_result"
    }
   ],
   "source": [
    "def minuteFloatToHourMinSec(minute_float):\n",
    "    # Convert duration to seconds\n",
    "    duration_in_seconds = minute_float * 60\n",
    "\n",
    "    # Convert seconds to hours, minutes, and seconds\n",
    "    hours, seconds_remainder = divmod(duration_in_seconds, 3600)\n",
    "    minutes, seconds = divmod(seconds_remainder, 60)\n",
    "\n",
    "    minutes_unit = 'Mins' if minutes > 1 else 'Min'\n",
    "    hours_unit = 'Hrs' if hours > 1 else 'Hr'\n",
    "    \n",
    "    if hours < 1: # less than an hour\n",
    "        return f'{minutes} {minutes_unit}'\n",
    "    else:\n",
    "        return f'{hours} {hours_unit} {minutes} {minutes_unit}'\n",
    "\n",
    "minuteFloatToHourMinSec()"
   ]
  },
  {
   "cell_type": "code",
   "execution_count": 5,
   "metadata": {},
   "outputs": [
    {
     "data": {
      "text/plain": [
       "4.6"
      ]
     },
     "execution_count": 5,
     "metadata": {},
     "output_type": "execute_result"
    }
   ],
   "source": [
    "0.07666666666666666*60"
   ]
  }
 ],
 "metadata": {
  "kernelspec": {
   "display_name": "nimbus",
   "language": "python",
   "name": "python3"
  },
  "language_info": {
   "codemirror_mode": {
    "name": "ipython",
    "version": 3
   },
   "file_extension": ".py",
   "mimetype": "text/x-python",
   "name": "python",
   "nbconvert_exporter": "python",
   "pygments_lexer": "ipython3",
   "version": "3.9.16"
  },
  "orig_nbformat": 4
 },
 "nbformat": 4,
 "nbformat_minor": 2
}
